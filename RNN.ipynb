{
 "cells": [
  {
   "cell_type": "markdown",
   "id": "c305b78f",
   "metadata": {},
   "source": [
    "# Recurrent Neural Network\n",
    "\n",
    "\n",
    "### From Assignment Brief:\n",
    "The goal of this project is to build a next-word predictor, given a sequence of words. <br>\n",
    "The input to your model is a sequence of words of any length (could be one word,\n",
    "could be five words, etc.). <br>\n",
    "The output of your model is a word that follows that sequence of words. <br>\n",
    "In principle, given an input to your model, you can ask your model to predict the next\n",
    "ten words, by asking your model to predict the next word ten times. <br>\n",
    "To test your model, you must apply the following ten example sequences of words as inputs: <br>\n",
    "You can ask your model to predict the next ten words, given each input. For example: (Seed text **bolded**) <br><br>\n",
    "Model 1: <br>\n",
    "**embrace each day** for morning's potential is a blank canvas seize it with <br>\n",
    "**radiate some** gratitude and watch as the universe conspires to bring you <br>\n",
    "**believe that** yourself and let your heart's whispers guide you to your <br>\n",
    "**life's actual purpose is** a chance to learn to grow and to embrace the <br>\n",
    "**dance through each and every** one chapter of life to the next world your nature <br>\n",
    "**let your time and energy** so brightly that it eclipses even the darkest of days <br>\n",
    "**every person is** of kindness sends ripples of positivity throughout the universe of <br>\n",
    "**our country Singapore is** through storms knowing that your steps create the path to <br>\n",
    "**planet earth is** through challenges like a breeze through the trees leaving a <br>\n",
    "**morning and evening would make it** the chisels that sculpt you into a masterpiece of strength <br>\n",
    "\n",
    "Model 2:<br>\n",
    "**embrace each day** they bring the thunder that clears the path to your<br>\n",
    "**radiate some** positivity illuminating the world with a light that banishes darkness<br>\n",
    "**believe that** yourself and let your inner light outshine any darkness around<br>\n",
    "**life's actual purpose is** a wildflower spreading love's fragrance far and wide and majesty<br>\n",
    "**dance through each and every** from one chapter of life to the next next hues<br>\n",
    "**let your time and energy** so hold mysteries waiting to be explored revealing hidden wonders<br>\n",
    "**every person is** you nurture blooms into a garden of meaningful relationships relationships<br>\n",
    "**our country Singapore is** is a testament to the city's ambition and resilience and<br>\n",
    "**planet earth is** sparkles a reflection of the city's ambition to reach new<br>\n",
    "**morning and evening would make it** a tapestry of flavors weaving a story of cultural fusion<br>"
   ]
  },
  {
   "cell_type": "code",
   "execution_count": 2,
   "id": "a62bcfd1",
   "metadata": {},
   "outputs": [],
   "source": [
    "import os\n",
    "from tqdm.notebook import tqdm\n",
    "import random\n",
    "import warnings\n",
    "\n",
    "os.environ['TF_CPP_MIN_LOG_LEVEL'] = '3' # Disable TF Warnings\n",
    "os.environ['KMP_DUPLICATE_LIB_OK']='True'\n",
    "os.environ[\"tf_gpu_allocator\"]=\"cuda_malloc_async\"\n",
    "warnings.filterwarnings(\"ignore\")\n",
    "\n",
    "checkpoint_folder_path = \"training_checkpoints/\"\n",
    "\n",
    "# example filepath large_weights.{epoch:02d}-{val_loss:.2f}.hdf5"
   ]
  },
  {
   "cell_type": "code",
   "execution_count": 13,
   "id": "26541333",
   "metadata": {},
   "outputs": [
    {
     "name": "stdout",
     "output_type": "stream",
     "text": [
      "[PhysicalDevice(name='/physical_device:GPU:0', device_type='GPU')]\n"
     ]
    }
   ],
   "source": [
    "import numpy as np\n",
    "import pandas as pd\n",
    "import matplotlib.pyplot as plt\n",
    "import seaborn as sns\n",
    "\n",
    "pd.set_option('display.max_colwidth', None)\n",
    "\n",
    "import tensorflow as tf\n",
    "\n",
    "print(tf.config.list_physical_devices('GPU'))"
   ]
  },
  {
   "cell_type": "code",
   "execution_count": 4,
   "id": "9dda16d1",
   "metadata": {},
   "outputs": [
    {
     "name": "stdout",
     "output_type": "stream",
     "text": [
      "Mon Oct 30 13:28:28 2023       \n",
      "+---------------------------------------------------------------------------------------+\n",
      "| NVIDIA-SMI 535.98                 Driver Version: 535.98       CUDA Version: 12.2     |\n",
      "|-----------------------------------------+----------------------+----------------------+\n",
      "| GPU  Name                     TCC/WDDM  | Bus-Id        Disp.A | Volatile Uncorr. ECC |\n",
      "| Fan  Temp   Perf          Pwr:Usage/Cap |         Memory-Usage | GPU-Util  Compute M. |\n",
      "|                                         |                      |               MIG M. |\n",
      "|=========================================+======================+======================|\n",
      "|   0  NVIDIA GeForce RTX 4070      WDDM  | 00000000:01:00.0  On |                  N/A |\n",
      "|  0%   36C    P8               9W / 200W |   1576MiB / 12282MiB |     30%      Default |\n",
      "|                                         |                      |                  N/A |\n",
      "+-----------------------------------------+----------------------+----------------------+\n",
      "                                                                                         \n",
      "+---------------------------------------------------------------------------------------+\n",
      "| Processes:                                                                            |\n",
      "|  GPU   GI   CI        PID   Type   Process name                            GPU Memory |\n",
      "|        ID   ID                                                             Usage      |\n",
      "|=======================================================================================|\n",
      "|    0   N/A  N/A      5060    C+G   ...up\\ui-launcher\\AdskAccessUIHost.exe    N/A      |\n",
      "|    0   N/A  N/A      6380    C+G   C:\\Windows\\explorer.exe                   N/A      |\n",
      "|    0   N/A  N/A      9112    C+G   ...s\\Autodesk\\Autodesk AdSSO\\AdSSO.exe    N/A      |\n",
      "|    0   N/A  N/A     10292    C+G   ...oogle\\Chrome\\Application\\chrome.exe    N/A      |\n",
      "|    0   N/A  N/A     14112    C+G   ...on\\HEX\\Creative Cloud UI Helper.exe    N/A      |\n",
      "|    0   N/A  N/A     14320      C   ...naconda3\\envs\\gpu_env_sp\\python.exe    N/A      |\n",
      "|    0   N/A  N/A     15588    C+G   ...on\\118.0.2088.69\\msedgewebview2.exe    N/A      |\n",
      "|    0   N/A  N/A     16312    C+G   ..._8wekyb3d8bbwe\\PaintApp\\mspaint.exe    N/A      |\n",
      "|    0   N/A  N/A     18108    C+G   ...t.LockApp_cw5n1h2txyewy\\LockApp.exe    N/A      |\n",
      "|    0   N/A  N/A     18316    C+G   ...Desktop\\app-3.3.4\\GitHubDesktop.exe    N/A      |\n",
      "|    0   N/A  N/A     18456    C+G   ...CBS_cw5n1h2txyewy\\TextInputHost.exe    N/A      |\n",
      "|    0   N/A  N/A     21168    C+G   ...al\\Discord\\app-1.0.9021\\Discord.exe    N/A      |\n",
      "|    0   N/A  N/A     21264    C+G   ...pdnekdrzrea0\\XboxGameBarSpotify.exe    N/A      |\n",
      "|    0   N/A  N/A     22288    C+G   ...82.0_x64__zpdnekdrzrea0\\Spotify.exe    N/A      |\n",
      "|    0   N/A  N/A     24196    C+G   ...soft Office\\root\\Office16\\EXCEL.EXE    N/A      |\n",
      "|    0   N/A  N/A     26516    C+G   ...aam7r\\AcrobatNotificationClient.exe    N/A      |\n",
      "|    0   N/A  N/A     27844    C+G   ...2txyewy\\StartMenuExperienceHost.exe    N/A      |\n",
      "|    0   N/A  N/A     30516    C+G   ...__8wekyb3d8bbwe\\WindowsTerminal.exe    N/A      |\n",
      "|    0   N/A  N/A     31152    C+G   ...nt.CBS_cw5n1h2txyewy\\SearchHost.exe    N/A      |\n",
      "|    0   N/A  N/A     31316    C+G   ...les\\Microsoft OneDrive\\OneDrive.exe    N/A      |\n",
      "|    0   N/A  N/A     35388    C+G   ...crosoft\\Edge\\Application\\msedge.exe    N/A      |\n",
      "|    0   N/A  N/A     35828    C+G   ...5n1h2txyewy\\ShellExperienceHost.exe    N/A      |\n",
      "|    0   N/A  N/A     36876    C+G   ...ejd91yc\\AdobeNotificationClient.exe    N/A      |\n",
      "|    0   N/A  N/A     37348    C+G   ..._8wekyb3d8bbwe\\PaintApp\\mspaint.exe    N/A      |\n",
      "|    0   N/A  N/A     39616    C+G   ...ktopConnector.Applications.Tray.exe    N/A      |\n",
      "+---------------------------------------------------------------------------------------+\n"
     ]
    }
   ],
   "source": [
    "!nvidia-smi"
   ]
  },
  {
   "cell_type": "code",
   "execution_count": 6,
   "id": "11b8ce8e",
   "metadata": {},
   "outputs": [],
   "source": [
    "from tensorflow.keras.models import Sequential, Model\n",
    "from tensorflow.keras.layers import Flatten, Dense, Dropout, ReLU, LeakyReLU, BatchNormalization, Add, Input, concatenate, LSTM, Embedding\n",
    "\n",
    "from tensorflow.keras.regularizers import l2\n",
    "from tensorflow.keras.utils import to_categorical\n",
    "from tensorflow.keras.optimizers.schedules import ExponentialDecay\n",
    "from tensorflow.keras.optimizers import Adam\n",
    "from tensorflow.keras.callbacks import ModelCheckpoint\n",
    "\n",
    "from sklearn.utils.class_weight import compute_class_weight"
   ]
  },
  {
   "cell_type": "code",
   "execution_count": 7,
   "id": "e5a4f906",
   "metadata": {},
   "outputs": [],
   "source": [
    "sns.set(style='darkgrid', palette='deep')\n",
    "\n",
    "tf.random.set_seed(42)"
   ]
  },
  {
   "cell_type": "markdown",
   "id": "d380cf37",
   "metadata": {},
   "source": [
    "# Exploratory Data Analysis\n",
    "\n",
    "The dataset consists of 1000 training text samples."
   ]
  },
  {
   "cell_type": "code",
   "execution_count": 11,
   "id": "b18e0b44",
   "metadata": {},
   "outputs": [],
   "source": [
    "df = pd.read_csv(\"data/train.csv\")\n",
    "eda_df = df.copy()"
   ]
  },
  {
   "cell_type": "code",
   "execution_count": 14,
   "id": "b0839714",
   "metadata": {},
   "outputs": [
    {
     "data": {
      "text/html": [
       "<div>\n",
       "<style scoped>\n",
       "    .dataframe tbody tr th:only-of-type {\n",
       "        vertical-align: middle;\n",
       "    }\n",
       "\n",
       "    .dataframe tbody tr th {\n",
       "        vertical-align: top;\n",
       "    }\n",
       "\n",
       "    .dataframe thead th {\n",
       "        text-align: right;\n",
       "    }\n",
       "</style>\n",
       "<table border=\"1\" class=\"dataframe\">\n",
       "  <thead>\n",
       "    <tr style=\"text-align: right;\">\n",
       "      <th></th>\n",
       "      <th>Quotes</th>\n",
       "    </tr>\n",
       "  </thead>\n",
       "  <tbody>\n",
       "    <tr>\n",
       "      <th>0</th>\n",
       "      <td>Embrace the beauty of every sunrise; it's a fresh chance to paint your world with joy.</td>\n",
       "    </tr>\n",
       "    <tr>\n",
       "      <th>1</th>\n",
       "      <td>Embrace challenges; they are the stepping stones to your greatest victories.</td>\n",
       "    </tr>\n",
       "    <tr>\n",
       "      <th>2</th>\n",
       "      <td>Embrace the rhythm of life and let it dance through your soul.</td>\n",
       "    </tr>\n",
       "    <tr>\n",
       "      <th>3</th>\n",
       "      <td>Embrace kindness, for it has the power to change the world one heart at a time.</td>\n",
       "    </tr>\n",
       "    <tr>\n",
       "      <th>4</th>\n",
       "      <td>Embrace the journey, for it leads to the destination of your dreams.</td>\n",
       "    </tr>\n",
       "  </tbody>\n",
       "</table>\n",
       "</div>"
      ],
      "text/plain": [
       "                                                                                   Quotes\n",
       "0  Embrace the beauty of every sunrise; it's a fresh chance to paint your world with joy.\n",
       "1            Embrace challenges; they are the stepping stones to your greatest victories.\n",
       "2                          Embrace the rhythm of life and let it dance through your soul.\n",
       "3         Embrace kindness, for it has the power to change the world one heart at a time.\n",
       "4                    Embrace the journey, for it leads to the destination of your dreams."
      ]
     },
     "execution_count": 14,
     "metadata": {},
     "output_type": "execute_result"
    }
   ],
   "source": [
    "eda_df.head()"
   ]
  },
  {
   "cell_type": "code",
   "execution_count": 15,
   "id": "682710a5",
   "metadata": {},
   "outputs": [
    {
     "data": {
      "text/html": [
       "<div>\n",
       "<style scoped>\n",
       "    .dataframe tbody tr th:only-of-type {\n",
       "        vertical-align: middle;\n",
       "    }\n",
       "\n",
       "    .dataframe tbody tr th {\n",
       "        vertical-align: top;\n",
       "    }\n",
       "\n",
       "    .dataframe thead th {\n",
       "        text-align: right;\n",
       "    }\n",
       "</style>\n",
       "<table border=\"1\" class=\"dataframe\">\n",
       "  <thead>\n",
       "    <tr style=\"text-align: right;\">\n",
       "      <th></th>\n",
       "      <th>Quotes</th>\n",
       "    </tr>\n",
       "  </thead>\n",
       "  <tbody>\n",
       "    <tr>\n",
       "      <th>count</th>\n",
       "      <td>1000</td>\n",
       "    </tr>\n",
       "    <tr>\n",
       "      <th>unique</th>\n",
       "      <td>890</td>\n",
       "    </tr>\n",
       "    <tr>\n",
       "      <th>top</th>\n",
       "      <td>Radiate acceptance, and find peace in embracing what is.</td>\n",
       "    </tr>\n",
       "    <tr>\n",
       "      <th>freq</th>\n",
       "      <td>5</td>\n",
       "    </tr>\n",
       "  </tbody>\n",
       "</table>\n",
       "</div>"
      ],
      "text/plain": [
       "                                                          Quotes\n",
       "count                                                       1000\n",
       "unique                                                       890\n",
       "top     Radiate acceptance, and find peace in embracing what is.\n",
       "freq                                                           5"
      ]
     },
     "execution_count": 15,
     "metadata": {},
     "output_type": "execute_result"
    }
   ],
   "source": [
    "eda_df.describe()"
   ]
  },
  {
   "cell_type": "code",
   "execution_count": null,
   "id": "1375125b",
   "metadata": {},
   "outputs": [],
   "source": []
  }
 ],
 "metadata": {
  "kernelspec": {
   "display_name": "Python 3 (ipykernel)",
   "language": "python",
   "name": "python3"
  },
  "language_info": {
   "codemirror_mode": {
    "name": "ipython",
    "version": 3
   },
   "file_extension": ".py",
   "mimetype": "text/x-python",
   "name": "python",
   "nbconvert_exporter": "python",
   "pygments_lexer": "ipython3",
   "version": "3.8.18"
  }
 },
 "nbformat": 4,
 "nbformat_minor": 5
}
