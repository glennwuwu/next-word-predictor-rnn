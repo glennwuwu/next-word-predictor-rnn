{
 "cells": [
  {
   "cell_type": "markdown",
   "id": "c305b78f",
   "metadata": {},
   "source": [
    "# Recurrent Neural Network\n",
    "\n",
    "\n",
    "### From Assignment Brief:\n",
    "The goal of this project is to build a next-word predictor, given a sequence of words. <br>\n",
    "The input to your model is a sequence of words of any length (could be one word,\n",
    "could be five words, etc.). <br>\n",
    "The output of your model is a word that follows that sequence of words. <br>\n",
    "In principle, given an input to your model, you can ask your model to predict the next\n",
    "ten words, by asking your model to predict the next word ten times. <br>\n",
    "To test your model, you must apply the following ten example sequences of words as inputs: <br>\n",
    "You can ask your model to predict the next ten words, given each input. For example: (Seed text **bolded**) <br><br>\n",
    "Model 1: <br>\n",
    "**embrace each day** for morning's potential is a blank canvas seize it with <br>\n",
    "**radiate some** gratitude and watch as the universe conspires to bring you <br>\n",
    "**believe that** yourself and let your heart's whispers guide you to your <br>\n",
    "**life's actual purpose is** a chance to learn to grow and to embrace the <br>\n",
    "**dance through each and every** one chapter of life to the next world your nature <br>\n",
    "**let your time and energy** so brightly that it eclipses even the darkest of days <br>\n",
    "**every person is** of kindness sends ripples of positivity throughout the universe of <br>\n",
    "**our country Singapore is** through storms knowing that your steps create the path to <br>\n",
    "**planet earth is** through challenges like a breeze through the trees leaving a <br>\n",
    "**morning and evening would make it** the chisels that sculpt you into a masterpiece of strength <br>\n",
    "\n",
    "Model 2:<br>\n",
    "**embrace each day** they bring the thunder that clears the path to your<br>\n",
    "**radiate some** positivity illuminating the world with a light that banishes darkness<br>\n",
    "**believe that** yourself and let your inner light outshine any darkness around<br>\n",
    "**life's actual purpose is** a wildflower spreading love's fragrance far and wide and majesty<br>\n",
    "**dance through each and every** from one chapter of life to the next next hues<br>\n",
    "**let your time and energy** so hold mysteries waiting to be explored revealing hidden wonders<br>\n",
    "**every person is** you nurture blooms into a garden of meaningful relationships relationships<br>\n",
    "**our country Singapore is** is a testament to the city's ambition and resilience and<br>\n",
    "**planet earth is** sparkles a reflection of the city's ambition to reach new<br>\n",
    "**morning and evening would make it** a tapestry of flavors weaving a story of cultural fusion<br>"
   ]
  },
  {
   "cell_type": "code",
   "execution_count": 87,
   "id": "a62bcfd1",
   "metadata": {},
   "outputs": [],
   "source": [
    "import os\n",
    "from tqdm.notebook import tqdm\n",
    "import random\n",
    "import warnings\n",
    "import re\n",
    "\n",
    "os.environ['TF_CPP_MIN_LOG_LEVEL'] = '3' # Disable TF Warnings\n",
    "os.environ['KMP_DUPLICATE_LIB_OK']='True'\n",
    "os.environ[\"tf_gpu_allocator\"]=\"cuda_malloc_async\"\n",
    "warnings.filterwarnings(\"ignore\")\n",
    "\n",
    "checkpoint_folder_path = \"training_checkpoints/\"\n",
    "\n",
    "# example filepath large_weights.{epoch:02d}-{val_loss:.2f}.hdf5"
   ]
  },
  {
   "cell_type": "code",
   "execution_count": 201,
   "id": "26541333",
   "metadata": {},
   "outputs": [
    {
     "name": "stdout",
     "output_type": "stream",
     "text": [
      "[PhysicalDevice(name='/physical_device:GPU:0', device_type='GPU')]\n"
     ]
    }
   ],
   "source": [
    "import numpy as np\n",
    "import pandas as pd\n",
    "import matplotlib.pyplot as plt\n",
    "import seaborn as sns\n",
    "\n",
    "pd.set_option('display.max_colwidth', None)\n",
    "\n",
    "import tensorflow as tf\n",
    "\n",
    "print(tf.config.list_physical_devices('GPU'))\n",
    "\n",
    "import spacy\n",
    "\n",
    "nlp = spacy.load(\"en_core_web_sm\")"
   ]
  },
  {
   "cell_type": "code",
   "execution_count": null,
   "id": "758da651-8e1f-4a1e-a379-c8e955f06e7a",
   "metadata": {},
   "outputs": [],
   "source": [
    "!pip install "
   ]
  },
  {
   "cell_type": "code",
   "execution_count": 3,
   "id": "9dda16d1",
   "metadata": {},
   "outputs": [
    {
     "name": "stdout",
     "output_type": "stream",
     "text": [
      "Mon Oct 30 13:44:55 2023       \n",
      "+---------------------------------------------------------------------------------------+\n",
      "| NVIDIA-SMI 545.23.06              Driver Version: 535.98       CUDA Version: 12.2     |\n",
      "|-----------------------------------------+----------------------+----------------------+\n",
      "| GPU  Name                 Persistence-M | Bus-Id        Disp.A | Volatile Uncorr. ECC |\n",
      "| Fan  Temp   Perf          Pwr:Usage/Cap |         Memory-Usage | GPU-Util  Compute M. |\n",
      "|                                         |                      |               MIG M. |\n",
      "|=========================================+======================+======================|\n",
      "|   0  NVIDIA GeForce RTX 4070        On  | 00000000:01:00.0  On |                  N/A |\n",
      "|  0%   37C    P2              26W / 200W |   1725MiB / 12282MiB |      0%      Default |\n",
      "|                                         |                      |                  N/A |\n",
      "+-----------------------------------------+----------------------+----------------------+\n",
      "                                                                                         \n",
      "+---------------------------------------------------------------------------------------+\n",
      "| Processes:                                                                            |\n",
      "|  GPU   GI   CI        PID   Type   Process name                            GPU Memory |\n",
      "|        ID   ID                                                             Usage      |\n",
      "|=======================================================================================|\n",
      "+---------------------------------------------------------------------------------------+\n"
     ]
    }
   ],
   "source": [
    "!nvidia-smi"
   ]
  },
  {
   "cell_type": "code",
   "execution_count": 191,
   "id": "11b8ce8e",
   "metadata": {},
   "outputs": [],
   "source": [
    "from tensorflow.keras.models import Sequential, Model\n",
    "from tensorflow.keras.layers import Flatten, Dense, Dropout, ReLU, LeakyReLU, BatchNormalization, Add, Input, concatenate, LSTM, Embedding\n",
    "from tensorflow.keras.preprocessing.text import Tokenizer\n",
    "from tensorflow.keras.preprocessing.sequence import pad_sequences\n",
    "\n",
    "from tensorflow.keras.utils import to_categorical\n",
    "from tensorflow.keras.regularizers import l2\n",
    "from tensorflow.keras.optimizers.schedules import ExponentialDecay\n",
    "from tensorflow.keras.optimizers import Adam\n",
    "from tensorflow.keras.callbacks import ModelCheckpoint\n",
    "\n",
    "from sklearn.model_selection import train_test_split"
   ]
  },
  {
   "cell_type": "code",
   "execution_count": 5,
   "id": "e5a4f906",
   "metadata": {},
   "outputs": [],
   "source": [
    "sns.set(style='darkgrid', palette='deep')\n",
    "\n",
    "tf.random.set_seed(42)"
   ]
  },
  {
   "cell_type": "markdown",
   "id": "d380cf37",
   "metadata": {},
   "source": [
    "# Exploratory Data Analysis\n",
    "\n",
    "The dataset consists of 1000 training text samples."
   ]
  },
  {
   "cell_type": "code",
   "execution_count": 6,
   "id": "b18e0b44",
   "metadata": {},
   "outputs": [],
   "source": [
    "df = pd.read_csv(\"data/train.csv\")\n",
    "eda_df = df.copy()"
   ]
  },
  {
   "cell_type": "code",
   "execution_count": 7,
   "id": "b0839714",
   "metadata": {},
   "outputs": [
    {
     "data": {
      "text/html": [
       "<div>\n",
       "<style scoped>\n",
       "    .dataframe tbody tr th:only-of-type {\n",
       "        vertical-align: middle;\n",
       "    }\n",
       "\n",
       "    .dataframe tbody tr th {\n",
       "        vertical-align: top;\n",
       "    }\n",
       "\n",
       "    .dataframe thead th {\n",
       "        text-align: right;\n",
       "    }\n",
       "</style>\n",
       "<table border=\"1\" class=\"dataframe\">\n",
       "  <thead>\n",
       "    <tr style=\"text-align: right;\">\n",
       "      <th></th>\n",
       "      <th>Quotes</th>\n",
       "    </tr>\n",
       "  </thead>\n",
       "  <tbody>\n",
       "    <tr>\n",
       "      <th>0</th>\n",
       "      <td>Embrace the beauty of every sunrise; it's a fresh chance to paint your world with joy.</td>\n",
       "    </tr>\n",
       "    <tr>\n",
       "      <th>1</th>\n",
       "      <td>Embrace challenges; they are the stepping stones to your greatest victories.</td>\n",
       "    </tr>\n",
       "    <tr>\n",
       "      <th>2</th>\n",
       "      <td>Embrace the rhythm of life and let it dance through your soul.</td>\n",
       "    </tr>\n",
       "    <tr>\n",
       "      <th>3</th>\n",
       "      <td>Embrace kindness, for it has the power to change the world one heart at a time.</td>\n",
       "    </tr>\n",
       "    <tr>\n",
       "      <th>4</th>\n",
       "      <td>Embrace the journey, for it leads to the destination of your dreams.</td>\n",
       "    </tr>\n",
       "  </tbody>\n",
       "</table>\n",
       "</div>"
      ],
      "text/plain": [
       "                                                                                   Quotes\n",
       "0  Embrace the beauty of every sunrise; it's a fresh chance to paint your world with joy.\n",
       "1            Embrace challenges; they are the stepping stones to your greatest victories.\n",
       "2                          Embrace the rhythm of life and let it dance through your soul.\n",
       "3         Embrace kindness, for it has the power to change the world one heart at a time.\n",
       "4                    Embrace the journey, for it leads to the destination of your dreams."
      ]
     },
     "execution_count": 7,
     "metadata": {},
     "output_type": "execute_result"
    }
   ],
   "source": [
    "eda_df.head()"
   ]
  },
  {
   "cell_type": "code",
   "execution_count": 8,
   "id": "682710a5",
   "metadata": {},
   "outputs": [
    {
     "data": {
      "text/html": [
       "<div>\n",
       "<style scoped>\n",
       "    .dataframe tbody tr th:only-of-type {\n",
       "        vertical-align: middle;\n",
       "    }\n",
       "\n",
       "    .dataframe tbody tr th {\n",
       "        vertical-align: top;\n",
       "    }\n",
       "\n",
       "    .dataframe thead th {\n",
       "        text-align: right;\n",
       "    }\n",
       "</style>\n",
       "<table border=\"1\" class=\"dataframe\">\n",
       "  <thead>\n",
       "    <tr style=\"text-align: right;\">\n",
       "      <th></th>\n",
       "      <th>Quotes</th>\n",
       "    </tr>\n",
       "  </thead>\n",
       "  <tbody>\n",
       "    <tr>\n",
       "      <th>count</th>\n",
       "      <td>1000</td>\n",
       "    </tr>\n",
       "    <tr>\n",
       "      <th>unique</th>\n",
       "      <td>890</td>\n",
       "    </tr>\n",
       "    <tr>\n",
       "      <th>top</th>\n",
       "      <td>Radiate acceptance, and find peace in embracing what is.</td>\n",
       "    </tr>\n",
       "    <tr>\n",
       "      <th>freq</th>\n",
       "      <td>5</td>\n",
       "    </tr>\n",
       "  </tbody>\n",
       "</table>\n",
       "</div>"
      ],
      "text/plain": [
       "                                                          Quotes\n",
       "count                                                       1000\n",
       "unique                                                       890\n",
       "top     Radiate acceptance, and find peace in embracing what is.\n",
       "freq                                                           5"
      ]
     },
     "execution_count": 8,
     "metadata": {},
     "output_type": "execute_result"
    }
   ],
   "source": [
    "eda_df.describe()"
   ]
  },
  {
   "cell_type": "code",
   "execution_count": 13,
   "id": "1375125b",
   "metadata": {},
   "outputs": [
    {
     "data": {
      "image/png": "[encoded data removed]",
      "text/plain": [
       "<Figure size 1000x600 with 1 Axes>"
      ]
     },
     "metadata": {},
     "output_type": "display_data"
    }
   ],
   "source": [
    "from collections import Counter\n",
    "\n",
    "# Assuming 'sentences' is a list of sentences in your dataset\n",
    "words = [word for sentence in eda_df[\"Quotes\"] for word in sentence.split()]\n",
    "word_freq = Counter(words)\n",
    "top_20_words = dict(word_freq.most_common(20))\n",
    "\n",
    "plt.figure(figsize=(10, 6))\n",
    "plt.bar(top_20_words.keys(), top_20_words.values())\n",
    "plt.xlabel('Words')\n",
    "plt.ylabel('Frequency')\n",
    "plt.title('Top 20 Most Common Words')\n",
    "plt.xticks(rotation=45)\n",
    "plt.show()"
   ]
  },
  {
   "cell_type": "code",
   "execution_count": 17,
   "id": "03cb39de-c984-4afe-9e10-25027717260b",
   "metadata": {},
   "outputs": [
    {
     "name": "stdout",
     "output_type": "stream",
     "text": [
      "Average sentence length: 11.865\n",
      "Maximum sentence length: 35\n",
      "Minimum sentence length: 7\n"
     ]
    }
   ],
   "source": [
    "sentence_lengths = [len(sentence.split()) for sentence in eda_df[\"Quotes\"]]\n",
    "print(\"Average sentence length:\", sum(sentence_lengths) / len(sentence_lengths))\n",
    "print(\"Maximum sentence length:\", max(sentence_lengths))\n",
    "print(\"Minimum sentence length:\", min(sentence_lengths))"
   ]
  },
  {
   "cell_type": "markdown",
   "id": "7b418108-6e5c-42d2-88f0-80cf2885e72c",
   "metadata": {},
   "source": [
    "## Preprocessing"
   ]
  },
  {
   "cell_type": "code",
   "execution_count": 212,
   "id": "ebfbdb10-d476-45a1-bb29-ddb02eab2326",
   "metadata": {},
   "outputs": [],
   "source": [
    "def remove_punctuation(sentence):\n",
    "    PUNC = [\";\", \".\", \",\", \":\", \"?\", \"!\", \"\\n\", \"\\t\", \"'\", '\"', \"-\"]\n",
    "    output = []\n",
    "    for word in sentence:\n",
    "        if word not in PUNC:\n",
    "            output.append(word)\n",
    "    return output\n",
    "\n",
    "def keep_joint(sentence, joiner):\n",
    "    output = [sentence[0]]\n",
    "    for i, word in enumerate(sentence[1:]):\n",
    "        if joiner in word:\n",
    "            output.pop()\n",
    "            output.append(sentence[i-1]+word)\n",
    "            print(i, sentence)\n",
    "        else:\n",
    "            output.append(word)\n",
    "    return output\n",
    "            \n",
    "def clean_sentences(sentences):\n",
    "    for i, sentence in enumerate(sentences):\n",
    "        sentences[i] = remove_punctuation(sentence)\n",
    "        # sentences[i] = keep_joint(sentences[i], \"-\")\n",
    "    return sentences\n"
   ]
  },
  {
   "cell_type": "code",
   "execution_count": 242,
   "id": "280273a8-082e-4a6c-b41b-bc975d34a444",
   "metadata": {},
   "outputs": [
    {
     "name": "stdout",
     "output_type": "stream",
     "text": [
      "['Embrace', 'the', 'beauty', 'of', 'every', 'sunrise', 'it', \"'s\", 'a', 'fresh', 'chance', 'to', 'paint', 'your', 'world', 'with', 'joy']\n",
      "['Embrace', 'challenges', 'they', 'are', 'the', 'stepping', 'stones', 'to', 'your', 'greatest', 'victories']\n",
      "['Embrace', 'the', 'rhythm', 'of', 'life', 'and', 'let', 'it', 'dance', 'through', 'your', 'soul']\n",
      "['Embrace', 'kindness', 'for', 'it', 'has', 'the', 'power', 'to', 'change', 'the', 'world', 'one', 'heart', 'at', 'a', 'time']\n",
      "['Embrace', 'the', 'journey', 'for', 'it', 'leads', 'to', 'the', 'destination', 'of', 'your', 'dreams']\n",
      "Number of unique words: 1202\n"
     ]
    }
   ],
   "source": [
    "tokenized_quotes = [[token.text for token in nlp(quote)] for quote in df[\"Quotes\"]]\n",
    "tokenized_quotes = clean_sentences(tokenized_quotes)\n",
    "\n",
    "for i in range(5):\n",
    "    print(tokenized_quotes[i])\n",
    "    \n",
    "tokenizer = Tokenizer(split=\" \", lower=False)\n",
    "tokenizer.fit_on_texts(tokenized_quotes)\n",
    "\n",
    "total_words = len(tokenizer.word_index)\n",
    "print(f\"Number of unique words: {total_words}\")\n",
    "total_words += 1"
   ]
  },
  {
   "cell_type": "code",
   "execution_count": 228,
   "id": "2308dbb9-0934-4267-a9a8-56822783d4e0",
   "metadata": {},
   "outputs": [
    {
     "data": {
      "text/plain": [
       "{\"'ll\", \"'s\", \"'ve\"}"
      ]
     },
     "execution_count": 228,
     "metadata": {},
     "output_type": "execute_result"
    }
   ],
   "source": [
    "contractions = []\n",
    "\n",
    "for sequence in tokenized_quotes:\n",
    "    for word in sequence:\n",
    "        if \"'\" in word:\n",
    "            contractions.append(word)\n",
    "\n",
    "set(contractions)"
   ]
  },
  {
   "cell_type": "code",
   "execution_count": 234,
   "id": "87cbef98-27b6-47cc-b62e-7becddcc088d",
   "metadata": {},
   "outputs": [
    {
     "name": "stdout",
     "output_type": "stream",
     "text": [
      "61889\n",
      "Predictor: Embrace the\n",
      "Label: beauty\n",
      "Predictor: Embrace the beauty\n",
      "Label: of\n",
      "Predictor: Embrace the beauty of\n",
      "Label: every\n",
      "Predictor: Embrace the beauty of every\n",
      "Label: sunrise\n",
      "Predictor: Embrace the beauty of every sunrise\n",
      "Label: it\n",
      "Predictor: [ 0  0  0  0  0  0  0  0  0  0  0  0  0  0 20  1]\n",
      "Label: [56]\n",
      "Predictor: [ 0  0  0  0  0  0  0  0  0  0  0  0  0 20  1 56]\n",
      "Label: [2]\n",
      "Predictor: [ 0  0  0  0  0  0  0  0  0  0  0  0 20  1 56  2]\n",
      "Label: [47]\n",
      "Predictor: [ 0  0  0  0  0  0  0  0  0  0  0 20  1 56  2 47]\n",
      "Label: [94]\n",
      "Predictor: [ 0  0  0  0  0  0  0  0  0  0 20  1 56  2 47 94]\n",
      "Label: [10]\n"
     ]
    }
   ],
   "source": [
    "X = []\n",
    "y = []\n",
    "\n",
    "min_sequence_length = 2\n",
    "for sequence in tokenized_quotes:\n",
    "    for i in range(len(sequence)):\n",
    "        for j in range(i+min_sequence_length, len(sequence)):\n",
    "            X.append(\" \".join(sequence[i:j]))\n",
    "            y.append(sequence[j])\n",
    "            if len(tokenizer.texts_to_sequences([y[-1]])[0]) != 1:\n",
    "                print(y[-1])\n",
    "\n",
    "print(len(predictors))\n",
    "\n",
    "for pred, label in zip(X[:5], y[:5]):\n",
    "    print(f\"Predictor: {pred}\\nLabel: {label}\")\n",
    "\n",
    "X = tokenizer.texts_to_sequences(X)\n",
    "y = tokenizer.texts_to_sequences(y)\n",
    "\n",
    "max_sequence_length = 16\n",
    "X = pad_sequences(X, maxlen=max_sequence_length, padding='pre')\n",
    "\n",
    "for pred, label in zip(X[:5], y[:5]):\n",
    "    print(f\"Predictor: {pred}\\nLabel: {label}\")\n",
    "\n",
    "y = to_categorical(y)"
   ]
  },
  {
   "cell_type": "code",
   "execution_count": 238,
   "id": "38ae8b74-118d-49e7-ae92-f6d3b23a7a00",
   "metadata": {},
   "outputs": [
    {
     "data": {
      "text/plain": [
       "(61603, 16)"
      ]
     },
     "execution_count": 238,
     "metadata": {},
     "output_type": "execute_result"
    }
   ],
   "source": [
    "X.shape"
   ]
  },
  {
   "cell_type": "code",
   "execution_count": 239,
   "id": "892e91f0-ff96-4d73-8595-1ebd1c3a6497",
   "metadata": {},
   "outputs": [
    {
     "data": {
      "text/plain": [
       "(61603, 1203)"
      ]
     },
     "execution_count": 239,
     "metadata": {},
     "output_type": "execute_result"
    }
   ],
   "source": [
    "y.shape"
   ]
  },
  {
   "cell_type": "code",
   "execution_count": null,
   "id": "bfbae8eb-3c32-4848-a017-cf446c7a9b78",
   "metadata": {},
   "outputs": [],
   "source": [
    "X_train, X_test, y_train, y_test = train_test_split(X, y, test_size=0.2, random_state=42)\n",
    "X_train, X_validation, y_train, y_validation = train_test_split(X_train, X_test, test_size=0.25, random_state=42)"
   ]
  },
  {
   "cell_type": "code",
   "execution_count": 247,
   "id": "fcfc152f-1a9d-438c-abc7-014749c61c84",
   "metadata": {},
   "outputs": [
    {
     "name": "stdout",
     "output_type": "stream",
     "text": [
      "Epoch 1/100\n",
      "482/482 [==============================] - 24s 48ms/step - loss: 5.4322 - accuracy: 0.0779\n",
      "Epoch 2/100\n",
      "482/482 [==============================] - 19s 39ms/step - loss: 4.6012 - accuracy: 0.1688\n",
      "Epoch 3/100\n",
      "482/482 [==============================] - 18s 38ms/step - loss: 3.9615 - accuracy: 0.2564\n",
      "Epoch 4/100\n",
      "482/482 [==============================] - 19s 39ms/step - loss: 3.5587 - accuracy: 0.3212\n",
      "Epoch 5/100\n",
      "482/482 [==============================] - 18s 37ms/step - loss: 3.2518 - accuracy: 0.3642\n",
      "Epoch 6/100\n",
      "482/482 [==============================] - 17s 36ms/step - loss: 3.0091 - accuracy: 0.3960\n",
      "Epoch 7/100\n",
      "482/482 [==============================] - 19s 39ms/step - loss: 2.7976 - accuracy: 0.4275\n",
      "Epoch 8/100\n",
      "482/482 [==============================] - 18s 38ms/step - loss: 2.6095 - accuracy: 0.4549\n",
      "Epoch 9/100\n",
      "482/482 [==============================] - 18s 38ms/step - loss: 2.4426 - accuracy: 0.4791\n",
      "Epoch 10/100\n",
      "482/482 [==============================] - 19s 39ms/step - loss: 2.2903 - accuracy: 0.5027\n",
      "Epoch 11/100\n",
      "482/482 [==============================] - 18s 38ms/step - loss: 2.1488 - accuracy: 0.5267\n",
      "Epoch 12/100\n",
      "482/482 [==============================] - 19s 40ms/step - loss: 2.0229 - accuracy: 0.5477\n",
      "Epoch 13/100\n",
      "482/482 [==============================] - 19s 39ms/step - loss: 1.9064 - accuracy: 0.5701\n",
      "Epoch 14/100\n",
      "482/482 [==============================] - 18s 38ms/step - loss: 1.8016 - accuracy: 0.5872\n",
      "Epoch 15/100\n",
      "482/482 [==============================] - 18s 37ms/step - loss: 1.7051 - accuracy: 0.6032\n",
      "Epoch 16/100\n",
      "482/482 [==============================] - 18s 38ms/step - loss: 1.6180 - accuracy: 0.6190\n",
      "Epoch 17/100\n",
      "482/482 [==============================] - 18s 38ms/step - loss: 1.5363 - accuracy: 0.6324\n",
      "Epoch 18/100\n",
      "482/482 [==============================] - 18s 38ms/step - loss: 1.4631 - accuracy: 0.6480\n",
      "Epoch 19/100\n",
      "482/482 [==============================] - 19s 38ms/step - loss: 1.3958 - accuracy: 0.6604\n",
      "Epoch 20/100\n",
      "482/482 [==============================] - 18s 37ms/step - loss: 1.3326 - accuracy: 0.6739\n",
      "Epoch 21/100\n",
      "482/482 [==============================] - 18s 38ms/step - loss: 1.2752 - accuracy: 0.6860\n",
      "Epoch 22/100\n",
      "482/482 [==============================] - 20s 42ms/step - loss: 1.2219 - accuracy: 0.6953\n",
      "Epoch 23/100\n",
      "482/482 [==============================] - 19s 40ms/step - loss: 1.1711 - accuracy: 0.7059\n",
      "Epoch 24/100\n",
      "482/482 [==============================] - 18s 37ms/step - loss: 1.1246 - accuracy: 0.7148\n",
      "Epoch 25/100\n",
      "482/482 [==============================] - 18s 38ms/step - loss: 1.0825 - accuracy: 0.7240\n",
      "Epoch 26/100\n",
      "482/482 [==============================] - 18s 38ms/step - loss: 1.0430 - accuracy: 0.7316\n",
      "Epoch 27/100\n",
      "482/482 [==============================] - 18s 38ms/step - loss: 1.0072 - accuracy: 0.7387\n",
      "Epoch 28/100\n",
      "482/482 [==============================] - 18s 38ms/step - loss: 0.9716 - accuracy: 0.7464\n",
      "Epoch 29/100\n",
      "482/482 [==============================] - 19s 40ms/step - loss: 0.9390 - accuracy: 0.7523\n",
      "Epoch 30/100\n",
      "482/482 [==============================] - 19s 39ms/step - loss: 0.9089 - accuracy: 0.7604\n",
      "Epoch 31/100\n",
      "482/482 [==============================] - 18s 38ms/step - loss: 0.8813 - accuracy: 0.7639\n",
      "Epoch 32/100\n",
      "482/482 [==============================] - 18s 38ms/step - loss: 0.8551 - accuracy: 0.7698\n",
      "Epoch 33/100\n",
      "482/482 [==============================] - 19s 39ms/step - loss: 0.8311 - accuracy: 0.7763\n",
      "Epoch 34/100\n",
      "482/482 [==============================] - 19s 39ms/step - loss: 0.8087 - accuracy: 0.7800\n",
      "Epoch 35/100\n",
      "482/482 [==============================] - 19s 39ms/step - loss: 0.7872 - accuracy: 0.7844\n",
      "Epoch 36/100\n",
      "482/482 [==============================] - 18s 38ms/step - loss: 0.7662 - accuracy: 0.7884\n",
      "Epoch 37/100\n",
      "482/482 [==============================] - 18s 38ms/step - loss: 0.7485 - accuracy: 0.7931\n",
      "Epoch 38/100\n",
      "482/482 [==============================] - 19s 40ms/step - loss: 0.7312 - accuracy: 0.7969\n",
      "Epoch 39/100\n",
      "482/482 [==============================] - 19s 40ms/step - loss: 0.7130 - accuracy: 0.8016\n",
      "Epoch 40/100\n",
      "482/482 [==============================] - 18s 38ms/step - loss: 0.6978 - accuracy: 0.8034\n",
      "Epoch 41/100\n",
      "482/482 [==============================] - 17s 36ms/step - loss: 0.6834 - accuracy: 0.8073\n",
      "Epoch 42/100\n",
      "482/482 [==============================] - 18s 38ms/step - loss: 0.6691 - accuracy: 0.8096\n",
      "Epoch 43/100\n",
      "482/482 [==============================] - 18s 37ms/step - loss: 0.6553 - accuracy: 0.8116\n",
      "Epoch 44/100\n",
      "482/482 [==============================] - 19s 39ms/step - loss: 0.6420 - accuracy: 0.8145\n",
      "Epoch 45/100\n",
      "482/482 [==============================] - 17s 36ms/step - loss: 0.6321 - accuracy: 0.8168\n",
      "Epoch 46/100\n",
      "482/482 [==============================] - 19s 40ms/step - loss: 0.6199 - accuracy: 0.8199\n",
      "Epoch 47/100\n",
      "482/482 [==============================] - 18s 37ms/step - loss: 0.6071 - accuracy: 0.8224\n",
      "Epoch 48/100\n",
      "482/482 [==============================] - 18s 37ms/step - loss: 0.5973 - accuracy: 0.8240\n",
      "Epoch 49/100\n",
      "482/482 [==============================] - 18s 36ms/step - loss: 0.5887 - accuracy: 0.8262\n",
      "Epoch 50/100\n",
      "482/482 [==============================] - 17s 36ms/step - loss: 0.5784 - accuracy: 0.8278\n",
      "Epoch 51/100\n",
      "482/482 [==============================] - 17s 36ms/step - loss: 0.5705 - accuracy: 0.8293\n",
      "Epoch 52/100\n",
      "482/482 [==============================] - 18s 38ms/step - loss: 0.5617 - accuracy: 0.8317\n",
      "Epoch 53/100\n",
      "482/482 [==============================] - 18s 37ms/step - loss: 0.5536 - accuracy: 0.8337\n",
      "Epoch 54/100\n",
      "482/482 [==============================] - 18s 38ms/step - loss: 0.5462 - accuracy: 0.8344\n",
      "Epoch 55/100\n",
      "482/482 [==============================] - 18s 38ms/step - loss: 0.5387 - accuracy: 0.8357\n",
      "Epoch 56/100\n",
      "482/482 [==============================] - 17s 36ms/step - loss: 0.5328 - accuracy: 0.8366\n",
      "Epoch 57/100\n",
      "482/482 [==============================] - 17s 36ms/step - loss: 0.5252 - accuracy: 0.8398\n",
      "Epoch 58/100\n",
      "482/482 [==============================] - 17s 36ms/step - loss: 0.5193 - accuracy: 0.8397\n",
      "Epoch 59/100\n",
      "185/482 [==========>...................] - ETA: 10s - loss: 0.5118 - accuracy: 0.8422"
     ]
    },
    {
     "ename": "KeyboardInterrupt",
     "evalue": "",
     "output_type": "error",
     "traceback": [
      "\u001b[0;31m---------------------------------------------------------------------------\u001b[0m",
      "\u001b[0;31mKeyboardInterrupt\u001b[0m                         Traceback (most recent call last)",
      "Cell \u001b[0;32mIn[247], line 9\u001b[0m\n\u001b[1;32m      6\u001b[0m model\u001b[38;5;241m.\u001b[39madd(Dense(total_words, activation\u001b[38;5;241m=\u001b[39m\u001b[38;5;124m'\u001b[39m\u001b[38;5;124msoftmax\u001b[39m\u001b[38;5;124m'\u001b[39m))\n\u001b[1;32m      8\u001b[0m model\u001b[38;5;241m.\u001b[39mcompile(loss\u001b[38;5;241m=\u001b[39m\u001b[38;5;124m'\u001b[39m\u001b[38;5;124mcategorical_crossentropy\u001b[39m\u001b[38;5;124m'\u001b[39m, optimizer\u001b[38;5;241m=\u001b[39m\u001b[38;5;124m'\u001b[39m\u001b[38;5;124madam\u001b[39m\u001b[38;5;124m'\u001b[39m, metrics\u001b[38;5;241m=\u001b[39m[\u001b[38;5;124m'\u001b[39m\u001b[38;5;124maccuracy\u001b[39m\u001b[38;5;124m'\u001b[39m])\n\u001b[0;32m----> 9\u001b[0m \u001b[43mmodel\u001b[49m\u001b[38;5;241;43m.\u001b[39;49m\u001b[43mfit\u001b[49m\u001b[43m(\u001b[49m\u001b[43mX\u001b[49m\u001b[43m,\u001b[49m\u001b[43m \u001b[49m\u001b[43my\u001b[49m\u001b[43m,\u001b[49m\u001b[43m \u001b[49m\u001b[43mepochs\u001b[49m\u001b[38;5;241;43m=\u001b[39;49m\u001b[38;5;241;43m100\u001b[39;49m\u001b[43m,\u001b[49m\u001b[43m \u001b[49m\u001b[43mverbose\u001b[49m\u001b[38;5;241;43m=\u001b[39;49m\u001b[38;5;241;43m1\u001b[39;49m\u001b[43m,\u001b[49m\u001b[43m \u001b[49m\u001b[43mbatch_size\u001b[49m\u001b[38;5;241;43m=\u001b[39;49m\u001b[38;5;241;43m128\u001b[39;49m\u001b[43m)\u001b[49m\n",
      "File \u001b[0;32m~/environments/my_env/lib/python3.10/site-packages/keras/src/utils/traceback_utils.py:65\u001b[0m, in \u001b[0;36mfilter_traceback.<locals>.error_handler\u001b[0;34m(*args, **kwargs)\u001b[0m\n\u001b[1;32m     63\u001b[0m filtered_tb \u001b[38;5;241m=\u001b[39m \u001b[38;5;28;01mNone\u001b[39;00m\n\u001b[1;32m     64\u001b[0m \u001b[38;5;28;01mtry\u001b[39;00m:\n\u001b[0;32m---> 65\u001b[0m     \u001b[38;5;28;01mreturn\u001b[39;00m \u001b[43mfn\u001b[49m\u001b[43m(\u001b[49m\u001b[38;5;241;43m*\u001b[39;49m\u001b[43margs\u001b[49m\u001b[43m,\u001b[49m\u001b[43m \u001b[49m\u001b[38;5;241;43m*\u001b[39;49m\u001b[38;5;241;43m*\u001b[39;49m\u001b[43mkwargs\u001b[49m\u001b[43m)\u001b[49m\n\u001b[1;32m     66\u001b[0m \u001b[38;5;28;01mexcept\u001b[39;00m \u001b[38;5;167;01mException\u001b[39;00m \u001b[38;5;28;01mas\u001b[39;00m e:\n\u001b[1;32m     67\u001b[0m     filtered_tb \u001b[38;5;241m=\u001b[39m _process_traceback_frames(e\u001b[38;5;241m.\u001b[39m__traceback__)\n",
      "File \u001b[0;32m~/environments/my_env/lib/python3.10/site-packages/keras/src/engine/training.py:1783\u001b[0m, in \u001b[0;36mModel.fit\u001b[0;34m(self, x, y, batch_size, epochs, verbose, callbacks, validation_split, validation_data, shuffle, class_weight, sample_weight, initial_epoch, steps_per_epoch, validation_steps, validation_batch_size, validation_freq, max_queue_size, workers, use_multiprocessing)\u001b[0m\n\u001b[1;32m   1775\u001b[0m \u001b[38;5;28;01mwith\u001b[39;00m tf\u001b[38;5;241m.\u001b[39mprofiler\u001b[38;5;241m.\u001b[39mexperimental\u001b[38;5;241m.\u001b[39mTrace(\n\u001b[1;32m   1776\u001b[0m     \u001b[38;5;124m\"\u001b[39m\u001b[38;5;124mtrain\u001b[39m\u001b[38;5;124m\"\u001b[39m,\n\u001b[1;32m   1777\u001b[0m     epoch_num\u001b[38;5;241m=\u001b[39mepoch,\n\u001b[0;32m   (...)\u001b[0m\n\u001b[1;32m   1780\u001b[0m     _r\u001b[38;5;241m=\u001b[39m\u001b[38;5;241m1\u001b[39m,\n\u001b[1;32m   1781\u001b[0m ):\n\u001b[1;32m   1782\u001b[0m     callbacks\u001b[38;5;241m.\u001b[39mon_train_batch_begin(step)\n\u001b[0;32m-> 1783\u001b[0m     tmp_logs \u001b[38;5;241m=\u001b[39m \u001b[38;5;28;43mself\u001b[39;49m\u001b[38;5;241;43m.\u001b[39;49m\u001b[43mtrain_function\u001b[49m\u001b[43m(\u001b[49m\u001b[43miterator\u001b[49m\u001b[43m)\u001b[49m\n\u001b[1;32m   1784\u001b[0m     \u001b[38;5;28;01mif\u001b[39;00m data_handler\u001b[38;5;241m.\u001b[39mshould_sync:\n\u001b[1;32m   1785\u001b[0m         context\u001b[38;5;241m.\u001b[39masync_wait()\n",
      "File \u001b[0;32m~/environments/my_env/lib/python3.10/site-packages/tensorflow/python/util/traceback_utils.py:150\u001b[0m, in \u001b[0;36mfilter_traceback.<locals>.error_handler\u001b[0;34m(*args, **kwargs)\u001b[0m\n\u001b[1;32m    148\u001b[0m filtered_tb \u001b[38;5;241m=\u001b[39m \u001b[38;5;28;01mNone\u001b[39;00m\n\u001b[1;32m    149\u001b[0m \u001b[38;5;28;01mtry\u001b[39;00m:\n\u001b[0;32m--> 150\u001b[0m   \u001b[38;5;28;01mreturn\u001b[39;00m \u001b[43mfn\u001b[49m\u001b[43m(\u001b[49m\u001b[38;5;241;43m*\u001b[39;49m\u001b[43margs\u001b[49m\u001b[43m,\u001b[49m\u001b[43m \u001b[49m\u001b[38;5;241;43m*\u001b[39;49m\u001b[38;5;241;43m*\u001b[39;49m\u001b[43mkwargs\u001b[49m\u001b[43m)\u001b[49m\n\u001b[1;32m    151\u001b[0m \u001b[38;5;28;01mexcept\u001b[39;00m \u001b[38;5;167;01mException\u001b[39;00m \u001b[38;5;28;01mas\u001b[39;00m e:\n\u001b[1;32m    152\u001b[0m   filtered_tb \u001b[38;5;241m=\u001b[39m _process_traceback_frames(e\u001b[38;5;241m.\u001b[39m__traceback__)\n",
      "File \u001b[0;32m~/environments/my_env/lib/python3.10/site-packages/tensorflow/python/eager/polymorphic_function/polymorphic_function.py:831\u001b[0m, in \u001b[0;36mFunction.__call__\u001b[0;34m(self, *args, **kwds)\u001b[0m\n\u001b[1;32m    828\u001b[0m compiler \u001b[38;5;241m=\u001b[39m \u001b[38;5;124m\"\u001b[39m\u001b[38;5;124mxla\u001b[39m\u001b[38;5;124m\"\u001b[39m \u001b[38;5;28;01mif\u001b[39;00m \u001b[38;5;28mself\u001b[39m\u001b[38;5;241m.\u001b[39m_jit_compile \u001b[38;5;28;01melse\u001b[39;00m \u001b[38;5;124m\"\u001b[39m\u001b[38;5;124mnonXla\u001b[39m\u001b[38;5;124m\"\u001b[39m\n\u001b[1;32m    830\u001b[0m \u001b[38;5;28;01mwith\u001b[39;00m OptionalXlaContext(\u001b[38;5;28mself\u001b[39m\u001b[38;5;241m.\u001b[39m_jit_compile):\n\u001b[0;32m--> 831\u001b[0m   result \u001b[38;5;241m=\u001b[39m \u001b[38;5;28;43mself\u001b[39;49m\u001b[38;5;241;43m.\u001b[39;49m\u001b[43m_call\u001b[49m\u001b[43m(\u001b[49m\u001b[38;5;241;43m*\u001b[39;49m\u001b[43margs\u001b[49m\u001b[43m,\u001b[49m\u001b[43m \u001b[49m\u001b[38;5;241;43m*\u001b[39;49m\u001b[38;5;241;43m*\u001b[39;49m\u001b[43mkwds\u001b[49m\u001b[43m)\u001b[49m\n\u001b[1;32m    833\u001b[0m new_tracing_count \u001b[38;5;241m=\u001b[39m \u001b[38;5;28mself\u001b[39m\u001b[38;5;241m.\u001b[39mexperimental_get_tracing_count()\n\u001b[1;32m    834\u001b[0m without_tracing \u001b[38;5;241m=\u001b[39m (tracing_count \u001b[38;5;241m==\u001b[39m new_tracing_count)\n",
      "File \u001b[0;32m~/environments/my_env/lib/python3.10/site-packages/tensorflow/python/eager/polymorphic_function/polymorphic_function.py:867\u001b[0m, in \u001b[0;36mFunction._call\u001b[0;34m(self, *args, **kwds)\u001b[0m\n\u001b[1;32m    864\u001b[0m   \u001b[38;5;28mself\u001b[39m\u001b[38;5;241m.\u001b[39m_lock\u001b[38;5;241m.\u001b[39mrelease()\n\u001b[1;32m    865\u001b[0m   \u001b[38;5;66;03m# In this case we have created variables on the first call, so we run the\u001b[39;00m\n\u001b[1;32m    866\u001b[0m   \u001b[38;5;66;03m# defunned version which is guaranteed to never create variables.\u001b[39;00m\n\u001b[0;32m--> 867\u001b[0m   \u001b[38;5;28;01mreturn\u001b[39;00m \u001b[43mtracing_compilation\u001b[49m\u001b[38;5;241;43m.\u001b[39;49m\u001b[43mcall_function\u001b[49m\u001b[43m(\u001b[49m\n\u001b[1;32m    868\u001b[0m \u001b[43m      \u001b[49m\u001b[43margs\u001b[49m\u001b[43m,\u001b[49m\u001b[43m \u001b[49m\u001b[43mkwds\u001b[49m\u001b[43m,\u001b[49m\u001b[43m \u001b[49m\u001b[38;5;28;43mself\u001b[39;49m\u001b[38;5;241;43m.\u001b[39;49m\u001b[43m_no_variable_creation_config\u001b[49m\n\u001b[1;32m    869\u001b[0m \u001b[43m  \u001b[49m\u001b[43m)\u001b[49m\n\u001b[1;32m    870\u001b[0m \u001b[38;5;28;01melif\u001b[39;00m \u001b[38;5;28mself\u001b[39m\u001b[38;5;241m.\u001b[39m_variable_creation_config \u001b[38;5;129;01mis\u001b[39;00m \u001b[38;5;129;01mnot\u001b[39;00m \u001b[38;5;28;01mNone\u001b[39;00m:\n\u001b[1;32m    871\u001b[0m   \u001b[38;5;66;03m# Release the lock early so that multiple threads can perform the call\u001b[39;00m\n\u001b[1;32m    872\u001b[0m   \u001b[38;5;66;03m# in parallel.\u001b[39;00m\n\u001b[1;32m    873\u001b[0m   \u001b[38;5;28mself\u001b[39m\u001b[38;5;241m.\u001b[39m_lock\u001b[38;5;241m.\u001b[39mrelease()\n",
      "File \u001b[0;32m~/environments/my_env/lib/python3.10/site-packages/tensorflow/python/eager/polymorphic_function/tracing_compilation.py:139\u001b[0m, in \u001b[0;36mcall_function\u001b[0;34m(args, kwargs, tracing_options)\u001b[0m\n\u001b[1;32m    137\u001b[0m bound_args \u001b[38;5;241m=\u001b[39m function\u001b[38;5;241m.\u001b[39mfunction_type\u001b[38;5;241m.\u001b[39mbind(\u001b[38;5;241m*\u001b[39margs, \u001b[38;5;241m*\u001b[39m\u001b[38;5;241m*\u001b[39mkwargs)\n\u001b[1;32m    138\u001b[0m flat_inputs \u001b[38;5;241m=\u001b[39m function\u001b[38;5;241m.\u001b[39mfunction_type\u001b[38;5;241m.\u001b[39munpack_inputs(bound_args)\n\u001b[0;32m--> 139\u001b[0m \u001b[38;5;28;01mreturn\u001b[39;00m \u001b[43mfunction\u001b[49m\u001b[38;5;241;43m.\u001b[39;49m\u001b[43m_call_flat\u001b[49m\u001b[43m(\u001b[49m\u001b[43m  \u001b[49m\u001b[38;5;66;43;03m# pylint: disable=protected-access\u001b[39;49;00m\n\u001b[1;32m    140\u001b[0m \u001b[43m    \u001b[49m\u001b[43mflat_inputs\u001b[49m\u001b[43m,\u001b[49m\u001b[43m \u001b[49m\u001b[43mcaptured_inputs\u001b[49m\u001b[38;5;241;43m=\u001b[39;49m\u001b[43mfunction\u001b[49m\u001b[38;5;241;43m.\u001b[39;49m\u001b[43mcaptured_inputs\u001b[49m\n\u001b[1;32m    141\u001b[0m \u001b[43m\u001b[49m\u001b[43m)\u001b[49m\n",
      "File \u001b[0;32m~/environments/my_env/lib/python3.10/site-packages/tensorflow/python/eager/polymorphic_function/concrete_function.py:1264\u001b[0m, in \u001b[0;36mConcreteFunction._call_flat\u001b[0;34m(self, tensor_inputs, captured_inputs)\u001b[0m\n\u001b[1;32m   1260\u001b[0m possible_gradient_type \u001b[38;5;241m=\u001b[39m gradients_util\u001b[38;5;241m.\u001b[39mPossibleTapeGradientTypes(args)\n\u001b[1;32m   1261\u001b[0m \u001b[38;5;28;01mif\u001b[39;00m (possible_gradient_type \u001b[38;5;241m==\u001b[39m gradients_util\u001b[38;5;241m.\u001b[39mPOSSIBLE_GRADIENT_TYPES_NONE\n\u001b[1;32m   1262\u001b[0m     \u001b[38;5;129;01mand\u001b[39;00m executing_eagerly):\n\u001b[1;32m   1263\u001b[0m   \u001b[38;5;66;03m# No tape is watching; skip to running the function.\u001b[39;00m\n\u001b[0;32m-> 1264\u001b[0m   \u001b[38;5;28;01mreturn\u001b[39;00m \u001b[38;5;28;43mself\u001b[39;49m\u001b[38;5;241;43m.\u001b[39;49m\u001b[43m_inference_function\u001b[49m\u001b[38;5;241;43m.\u001b[39;49m\u001b[43mflat_call\u001b[49m\u001b[43m(\u001b[49m\u001b[43margs\u001b[49m\u001b[43m)\u001b[49m\n\u001b[1;32m   1265\u001b[0m forward_backward \u001b[38;5;241m=\u001b[39m \u001b[38;5;28mself\u001b[39m\u001b[38;5;241m.\u001b[39m_select_forward_and_backward_functions(\n\u001b[1;32m   1266\u001b[0m     args,\n\u001b[1;32m   1267\u001b[0m     possible_gradient_type,\n\u001b[1;32m   1268\u001b[0m     executing_eagerly)\n\u001b[1;32m   1269\u001b[0m forward_function, args_with_tangents \u001b[38;5;241m=\u001b[39m forward_backward\u001b[38;5;241m.\u001b[39mforward()\n",
      "File \u001b[0;32m~/environments/my_env/lib/python3.10/site-packages/tensorflow/python/eager/polymorphic_function/atomic_function.py:217\u001b[0m, in \u001b[0;36mAtomicFunction.flat_call\u001b[0;34m(self, args)\u001b[0m\n\u001b[1;32m    215\u001b[0m \u001b[38;5;28;01mdef\u001b[39;00m \u001b[38;5;21mflat_call\u001b[39m(\u001b[38;5;28mself\u001b[39m, args: Sequence[core\u001b[38;5;241m.\u001b[39mTensor]) \u001b[38;5;241m-\u001b[39m\u001b[38;5;241m>\u001b[39m Any:\n\u001b[1;32m    216\u001b[0m \u001b[38;5;250m  \u001b[39m\u001b[38;5;124;03m\"\"\"Calls with tensor inputs and returns the structured output.\"\"\"\u001b[39;00m\n\u001b[0;32m--> 217\u001b[0m   flat_outputs \u001b[38;5;241m=\u001b[39m \u001b[38;5;28;43mself\u001b[39;49m\u001b[43m(\u001b[49m\u001b[38;5;241;43m*\u001b[39;49m\u001b[43margs\u001b[49m\u001b[43m)\u001b[49m\n\u001b[1;32m    218\u001b[0m   \u001b[38;5;28;01mreturn\u001b[39;00m \u001b[38;5;28mself\u001b[39m\u001b[38;5;241m.\u001b[39mfunction_type\u001b[38;5;241m.\u001b[39mpack_output(flat_outputs)\n",
      "File \u001b[0;32m~/environments/my_env/lib/python3.10/site-packages/tensorflow/python/eager/polymorphic_function/atomic_function.py:252\u001b[0m, in \u001b[0;36mAtomicFunction.__call__\u001b[0;34m(self, *args)\u001b[0m\n\u001b[1;32m    250\u001b[0m \u001b[38;5;28;01mwith\u001b[39;00m record\u001b[38;5;241m.\u001b[39mstop_recording():\n\u001b[1;32m    251\u001b[0m   \u001b[38;5;28;01mif\u001b[39;00m \u001b[38;5;28mself\u001b[39m\u001b[38;5;241m.\u001b[39m_bound_context\u001b[38;5;241m.\u001b[39mexecuting_eagerly():\n\u001b[0;32m--> 252\u001b[0m     outputs \u001b[38;5;241m=\u001b[39m \u001b[38;5;28;43mself\u001b[39;49m\u001b[38;5;241;43m.\u001b[39;49m\u001b[43m_bound_context\u001b[49m\u001b[38;5;241;43m.\u001b[39;49m\u001b[43mcall_function\u001b[49m\u001b[43m(\u001b[49m\n\u001b[1;32m    253\u001b[0m \u001b[43m        \u001b[49m\u001b[38;5;28;43mself\u001b[39;49m\u001b[38;5;241;43m.\u001b[39;49m\u001b[43mname\u001b[49m\u001b[43m,\u001b[49m\n\u001b[1;32m    254\u001b[0m \u001b[43m        \u001b[49m\u001b[38;5;28;43mlist\u001b[39;49m\u001b[43m(\u001b[49m\u001b[43margs\u001b[49m\u001b[43m)\u001b[49m\u001b[43m,\u001b[49m\n\u001b[1;32m    255\u001b[0m \u001b[43m        \u001b[49m\u001b[38;5;28;43mlen\u001b[39;49m\u001b[43m(\u001b[49m\u001b[38;5;28;43mself\u001b[39;49m\u001b[38;5;241;43m.\u001b[39;49m\u001b[43mfunction_type\u001b[49m\u001b[38;5;241;43m.\u001b[39;49m\u001b[43mflat_outputs\u001b[49m\u001b[43m)\u001b[49m\u001b[43m,\u001b[49m\n\u001b[1;32m    256\u001b[0m \u001b[43m    \u001b[49m\u001b[43m)\u001b[49m\n\u001b[1;32m    257\u001b[0m   \u001b[38;5;28;01melse\u001b[39;00m:\n\u001b[1;32m    258\u001b[0m     outputs \u001b[38;5;241m=\u001b[39m make_call_op_in_graph(\n\u001b[1;32m    259\u001b[0m         \u001b[38;5;28mself\u001b[39m,\n\u001b[1;32m    260\u001b[0m         \u001b[38;5;28mlist\u001b[39m(args),\n\u001b[1;32m    261\u001b[0m         \u001b[38;5;28mself\u001b[39m\u001b[38;5;241m.\u001b[39m_bound_context\u001b[38;5;241m.\u001b[39mfunction_call_options\u001b[38;5;241m.\u001b[39mas_attrs(),\n\u001b[1;32m    262\u001b[0m     )\n",
      "File \u001b[0;32m~/environments/my_env/lib/python3.10/site-packages/tensorflow/python/eager/context.py:1479\u001b[0m, in \u001b[0;36mContext.call_function\u001b[0;34m(self, name, tensor_inputs, num_outputs)\u001b[0m\n\u001b[1;32m   1477\u001b[0m cancellation_context \u001b[38;5;241m=\u001b[39m cancellation\u001b[38;5;241m.\u001b[39mcontext()\n\u001b[1;32m   1478\u001b[0m \u001b[38;5;28;01mif\u001b[39;00m cancellation_context \u001b[38;5;129;01mis\u001b[39;00m \u001b[38;5;28;01mNone\u001b[39;00m:\n\u001b[0;32m-> 1479\u001b[0m   outputs \u001b[38;5;241m=\u001b[39m \u001b[43mexecute\u001b[49m\u001b[38;5;241;43m.\u001b[39;49m\u001b[43mexecute\u001b[49m\u001b[43m(\u001b[49m\n\u001b[1;32m   1480\u001b[0m \u001b[43m      \u001b[49m\u001b[43mname\u001b[49m\u001b[38;5;241;43m.\u001b[39;49m\u001b[43mdecode\u001b[49m\u001b[43m(\u001b[49m\u001b[38;5;124;43m\"\u001b[39;49m\u001b[38;5;124;43mutf-8\u001b[39;49m\u001b[38;5;124;43m\"\u001b[39;49m\u001b[43m)\u001b[49m\u001b[43m,\u001b[49m\n\u001b[1;32m   1481\u001b[0m \u001b[43m      \u001b[49m\u001b[43mnum_outputs\u001b[49m\u001b[38;5;241;43m=\u001b[39;49m\u001b[43mnum_outputs\u001b[49m\u001b[43m,\u001b[49m\n\u001b[1;32m   1482\u001b[0m \u001b[43m      \u001b[49m\u001b[43minputs\u001b[49m\u001b[38;5;241;43m=\u001b[39;49m\u001b[43mtensor_inputs\u001b[49m\u001b[43m,\u001b[49m\n\u001b[1;32m   1483\u001b[0m \u001b[43m      \u001b[49m\u001b[43mattrs\u001b[49m\u001b[38;5;241;43m=\u001b[39;49m\u001b[43mattrs\u001b[49m\u001b[43m,\u001b[49m\n\u001b[1;32m   1484\u001b[0m \u001b[43m      \u001b[49m\u001b[43mctx\u001b[49m\u001b[38;5;241;43m=\u001b[39;49m\u001b[38;5;28;43mself\u001b[39;49m\u001b[43m,\u001b[49m\n\u001b[1;32m   1485\u001b[0m \u001b[43m  \u001b[49m\u001b[43m)\u001b[49m\n\u001b[1;32m   1486\u001b[0m \u001b[38;5;28;01melse\u001b[39;00m:\n\u001b[1;32m   1487\u001b[0m   outputs \u001b[38;5;241m=\u001b[39m execute\u001b[38;5;241m.\u001b[39mexecute_with_cancellation(\n\u001b[1;32m   1488\u001b[0m       name\u001b[38;5;241m.\u001b[39mdecode(\u001b[38;5;124m\"\u001b[39m\u001b[38;5;124mutf-8\u001b[39m\u001b[38;5;124m\"\u001b[39m),\n\u001b[1;32m   1489\u001b[0m       num_outputs\u001b[38;5;241m=\u001b[39mnum_outputs,\n\u001b[0;32m   (...)\u001b[0m\n\u001b[1;32m   1493\u001b[0m       cancellation_manager\u001b[38;5;241m=\u001b[39mcancellation_context,\n\u001b[1;32m   1494\u001b[0m   )\n",
      "File \u001b[0;32m~/environments/my_env/lib/python3.10/site-packages/tensorflow/python/eager/execute.py:60\u001b[0m, in \u001b[0;36mquick_execute\u001b[0;34m(op_name, num_outputs, inputs, attrs, ctx, name)\u001b[0m\n\u001b[1;32m     53\u001b[0m   \u001b[38;5;66;03m# Convert any objects of type core_types.Tensor to Tensor.\u001b[39;00m\n\u001b[1;32m     54\u001b[0m   inputs \u001b[38;5;241m=\u001b[39m [\n\u001b[1;32m     55\u001b[0m       tensor_conversion_registry\u001b[38;5;241m.\u001b[39mconvert(t)\n\u001b[1;32m     56\u001b[0m       \u001b[38;5;28;01mif\u001b[39;00m \u001b[38;5;28misinstance\u001b[39m(t, core_types\u001b[38;5;241m.\u001b[39mTensor)\n\u001b[1;32m     57\u001b[0m       \u001b[38;5;28;01melse\u001b[39;00m t\n\u001b[1;32m     58\u001b[0m       \u001b[38;5;28;01mfor\u001b[39;00m t \u001b[38;5;129;01min\u001b[39;00m inputs\n\u001b[1;32m     59\u001b[0m   ]\n\u001b[0;32m---> 60\u001b[0m   tensors \u001b[38;5;241m=\u001b[39m \u001b[43mpywrap_tfe\u001b[49m\u001b[38;5;241;43m.\u001b[39;49m\u001b[43mTFE_Py_Execute\u001b[49m\u001b[43m(\u001b[49m\u001b[43mctx\u001b[49m\u001b[38;5;241;43m.\u001b[39;49m\u001b[43m_handle\u001b[49m\u001b[43m,\u001b[49m\u001b[43m \u001b[49m\u001b[43mdevice_name\u001b[49m\u001b[43m,\u001b[49m\u001b[43m \u001b[49m\u001b[43mop_name\u001b[49m\u001b[43m,\u001b[49m\n\u001b[1;32m     61\u001b[0m \u001b[43m                                      \u001b[49m\u001b[43minputs\u001b[49m\u001b[43m,\u001b[49m\u001b[43m \u001b[49m\u001b[43mattrs\u001b[49m\u001b[43m,\u001b[49m\u001b[43m \u001b[49m\u001b[43mnum_outputs\u001b[49m\u001b[43m)\u001b[49m\n\u001b[1;32m     62\u001b[0m \u001b[38;5;28;01mexcept\u001b[39;00m core\u001b[38;5;241m.\u001b[39m_NotOkStatusException \u001b[38;5;28;01mas\u001b[39;00m e:\n\u001b[1;32m     63\u001b[0m   \u001b[38;5;28;01mif\u001b[39;00m name \u001b[38;5;129;01mis\u001b[39;00m \u001b[38;5;129;01mnot\u001b[39;00m \u001b[38;5;28;01mNone\u001b[39;00m:\n",
      "\u001b[0;31mKeyboardInterrupt\u001b[0m: "
     ]
    }
   ],
   "source": [
    "# Build the model\n",
    "model = Sequential()\n",
    "model.add(Embedding(total_words, 100, input_length=max_sequence_length))\n",
    "model.add(LSTM(150, return_sequences=True))\n",
    "model.add(LSTM(100))\n",
    "model.add(Dense(total_words, activation='softmax'))\n",
    "\n",
    "model.compile(loss='categorical_crossentropy', optimizer='adam', metrics=['accuracy'])\n",
    "history = model.fit(X_train, y_train, epochs=100, verbose=1, batch_size=128, validation_data=(X_validation, y_validation))\n"
   ]
  },
  {
   "cell_type": "code",
   "execution_count": null,
   "id": "42be454c-0c04-4079-a7d6-b1456c73f308",
   "metadata": {},
   "outputs": [],
   "source": [
    "def plot_history(history):\n",
    "    plt.figure(figsize=(12, 6))\n",
    "    plt.subplot(1, 2, 1)\n",
    "    plt.plot(history.history['accuracy'])\n",
    "    plt.plot(history.history['val_accuracy'])\n",
    "    plt.title('Model Accuracy')\n",
    "    plt.xlabel('Epoch')\n",
    "    plt.ylabel('Accuracy')\n",
    "    plt.legend(['Train', 'Validation'], loc='upper left')\n",
    "    \n",
    "    plt.subplot(1, 2, 2)\n",
    "    plt.plot(history.history['loss'])\n",
    "    plt.plot(history.history['val_loss'])\n",
    "    plt.title('Model Loss')\n",
    "    plt.xlabel('Epoch')\n",
    "    plt.ylabel('Loss')\n",
    "    plt.legend(['Train', 'Validation'], loc='upper left')\n",
    "    \n",
    "    plt.tight_layout()\n",
    "    plt.show()\n"
   ]
  },
  {
   "cell_type": "code",
   "execution_count": null,
   "id": "7f911546-30ef-4c4c-a56c-a99800443ba0",
   "metadata": {},
   "outputs": [],
   "source": [
    "def predict_next_word(seed_text, next_words=1):\n",
    "    for _ in range(next_words):\n",
    "        token_list = tokenizer.texts_to_sequences([seed_text])[0]\n",
    "        token_list = pad_sequences([token_list], maxlen=max_sequence_length-1, padding='pre')\n",
    "        predicted_index = np.argmax(model.predict(token_list, verbose=0), axis=-1)\n",
    "        predicted_word = \"\"\n",
    "        for word, index in tokenizer.word_index.items():\n",
    "            if index == predicted_index:\n",
    "                predicted_word = word\n",
    "                break\n",
    "        seed_text += \" \" + predicted_word\n",
    "    return seed_text\n",
    "\n",
    "# Example usage\n",
    "seed_text = \"your input sequence goes here\"\n",
    "predicted_text = predict_next_word(seed_text, next_words=10)\n",
    "print(predicted_text)"
   ]
  }
 ],
 "metadata": {
  "kernelspec": {
   "display_name": "Python 3 (ipykernel)",
   "language": "python",
   "name": "python3"
  },
  "language_info": {
   "codemirror_mode": {
    "name": "ipython",
    "version": 3
   },
   "file_extension": ".py",
   "mimetype": "text/x-python",
   "name": "python",
   "nbconvert_exporter": "python",
   "pygments_lexer": "ipython3",
   "version": "3.10.12"
  }
 },
 "nbformat": 4,
 "nbformat_minor": 5
}
